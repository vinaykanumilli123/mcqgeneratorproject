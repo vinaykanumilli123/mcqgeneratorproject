{
 "cells": [
  {
   "cell_type": "code",
   "execution_count": 2,
   "metadata": {},
   "outputs": [],
   "source": [
    "import os\n",
    "import json\n",
    "import pandas as pd\n",
    "import langchain\n",
    "import ollama"
   ]
  },
  {
   "cell_type": "code",
   "execution_count": 3,
   "metadata": {},
   "outputs": [],
   "source": [
    "\n",
    "from langchain.llms import Ollama\n",
    "from langchain import PromptTemplate"
   ]
  },
  {
   "cell_type": "code",
   "execution_count": 4,
   "metadata": {},
   "outputs": [],
   "source": [
    "llm = Ollama(model=\"orca-mini\", temperature=0)"
   ]
  },
  {
   "cell_type": "code",
   "execution_count": 11,
   "metadata": {},
   "outputs": [
    {
     "data": {
      "text/plain": [
       "' Why did the cricket join the gym? To get a bat and ball!'"
      ]
     },
     "execution_count": 11,
     "metadata": {},
     "output_type": "execute_result"
    }
   ],
   "source": [
    "llm.invoke(\"Tell me a joke about cricket\")"
   ]
  },
  {
   "cell_type": "code",
   "execution_count": 5,
   "metadata": {},
   "outputs": [],
   "source": [
    "from langchain.chains import LLMChain\n",
    "from langchain.chains import SequentialChain"
   ]
  },
  {
   "cell_type": "code",
   "execution_count": 6,
   "metadata": {},
   "outputs": [],
   "source": [
    "RESPONSE_JSON = {\n",
    "    \"1\": {\n",
    "        \"mcq\": \"multiple choice question\",\n",
    "        \"options\": {\n",
    "            \"a\": \"choice here\",\n",
    "            \"b\": \"choice here\",\n",
    "            \"c\": \"choice here\",\n",
    "            \"d\": \"choice here\",\n",
    "        },\n",
    "        \"correct\": \"correct answer\",\n",
    "    },\n",
    "    \"2\": {\n",
    "        \"mcq\": \"multiple choice question\",\n",
    "        \"options\": {\n",
    "            \"a\": \"choice here\",\n",
    "            \"b\": \"choice here\",\n",
    "            \"c\": \"choice here\",\n",
    "            \"d\": \"choice here\",\n",
    "        },\n",
    "        \"correct\": \"correct answer\",\n",
    "    },\n",
    "    \"3\": {\n",
    "        \"mcq\": \"multiple choice question\",\n",
    "        \"options\": {\n",
    "            \"a\": \"choice here\",\n",
    "            \"b\": \"choice here\",\n",
    "            \"c\": \"choice here\",\n",
    "            \"d\": \"choice here\",\n",
    "        },\n",
    "        \"correct\": \"correct answer\",\n",
    "    },\n",
    "}\n",
    "\n"
   ]
  },
  {
   "cell_type": "code",
   "execution_count": 7,
   "metadata": {},
   "outputs": [],
   "source": [
    "TEMPLATE=\"\"\"\n",
    "Text:{text}\n",
    "You are an expert MCQ maker. Given the above text, it is your job to \\\n",
    "create a quiz  of {number} multiple choice questions for {subject} students in {tone} tone. \n",
    "Make sure the questions are not repeated and check all the questions to be conforming the text as well.\n",
    "Make sure to format your response like  RESPONSE_JSON below  and use it as a guide. \\\n",
    "Ensure to make {number} MCQs\n",
    "### RESPONSE_JSON\n",
    "{response_json}\n",
    "\n",
    "\"\"\""
   ]
  },
  {
   "cell_type": "code",
   "execution_count": 40,
   "metadata": {},
   "outputs": [],
   "source": [
    "prompt=PromptTemplate(template=TEMPLATE,input_variables=[\"text\",\"number\",\"subject\",\"tone\",\"response_json\"])"
   ]
  },
  {
   "cell_type": "code",
   "execution_count": 17,
   "metadata": {},
   "outputs": [],
   "source": [
    "quiz_chain=LLMChain(llm=llm,prompt=prompt,output_key=\"quiz\",verbose=True)"
   ]
  },
  {
   "cell_type": "code",
   "execution_count": 38,
   "metadata": {},
   "outputs": [],
   "source": [
    "responsestring=json.dumps(RESPONSE_JSON)\n"
   ]
  },
  {
   "cell_type": "code",
   "execution_count": 39,
   "metadata": {},
   "outputs": [
    {
     "data": {
      "text/plain": [
       "'{\"1\": {\"mcq\": \"multiple choice question\", \"options\": {\"a\": \"choice here\", \"b\": \"choice here\", \"c\": \"choice here\", \"d\": \"choice here\"}, \"correct\": \"correct answer\"}, \"2\": {\"mcq\": \"multiple choice question\", \"options\": {\"a\": \"choice here\", \"b\": \"choice here\", \"c\": \"choice here\", \"d\": \"choice here\"}, \"correct\": \"correct answer\"}, \"3\": {\"mcq\": \"multiple choice question\", \"options\": {\"a\": \"choice here\", \"b\": \"choice here\", \"c\": \"choice here\", \"d\": \"choice here\"}, \"correct\": \"correct answer\"}}'"
      ]
     },
     "execution_count": 39,
     "metadata": {},
     "output_type": "execute_result"
    }
   ],
   "source": [
    "responsestring"
   ]
  },
  {
   "cell_type": "code",
   "execution_count": 40,
   "metadata": {},
   "outputs": [
    {
     "name": "stdout",
     "output_type": "stream",
     "text": [
      "\n",
      "\n",
      "\u001b[1m> Entering new LLMChain chain...\u001b[0m\n",
      "Prompt after formatting:\n",
      "\u001b[32;1m\u001b[1;3m\n",
      "Text:chemistry is very easy subject only molecules are present you can change them\n",
      "You are an expert MCQ maker. Given the above text, it is your job to create a quiz  of 1 multiple choice questions for chemistry students in simple tone. \n",
      "Make sure the questions are not repeated and check all the questions to be conforming the text as well.\n",
      "Make sure to format your response like  RESPONSE_JSON below  and use it as a guide. Ensure to make 1 MCQs\n",
      "### RESPONSE_JSON\n",
      "{\"1\": {\"mcq\": \"multiple choice question\", \"options\": {\"a\": \"choice here\", \"b\": \"choice here\", \"c\": \"choice here\", \"d\": \"choice here\"}, \"correct\": \"correct answer\"}, \"2\": {\"mcq\": \"multiple choice question\", \"options\": {\"a\": \"choice here\", \"b\": \"choice here\", \"c\": \"choice here\", \"d\": \"choice here\"}, \"correct\": \"correct answer\"}, \"3\": {\"mcq\": \"multiple choice question\", \"options\": {\"a\": \"choice here\", \"b\": \"choice here\", \"c\": \"choice here\", \"d\": \"choice here\"}, \"correct\": \"correct answer\"}}\n",
      "\n",
      "\u001b[0m\n",
      "\n",
      "\u001b[1m> Finished chain.\u001b[0m\n"
     ]
    }
   ],
   "source": [
    "#response=chain1.invoke({\"text\":\"chemistry is very easy subject only molecules are present you can change them\",\"number\":1,\"subject\":\"chemistry\",\"tone\":\"simple\",\"response_json\": responsestring})"
   ]
  },
  {
   "cell_type": "code",
   "execution_count": 42,
   "metadata": {},
   "outputs": [
    {
     "data": {
      "text/plain": [
       "' Sure, here are 3 multiple-choice questions related to chemistry:\\n\\n1. Which of the following is a type of chemical reaction?\\na) Combustion\\nb) Synthesis\\nc) Decomposition\\nd) Single displacement\\n\\n2. Which of the following is not a property of an element?\\na) Atomic number\\nb) Chemical symbol\\nc) Formula\\nd) Melting point\\n\\n3. Which of the following is not a type of chemical bond?\\na) Covalent\\nb) Ionic\\nc) Metallic\\nd) Vaporous'"
      ]
     },
     "execution_count": 42,
     "metadata": {},
     "output_type": "execute_result"
    }
   ],
   "source": [
    "response['response']"
   ]
  },
  {
   "cell_type": "code",
   "execution_count": 42,
   "metadata": {},
   "outputs": [],
   "source": [
    "TEMPLATE2=\"\"\"\n",
    "You are an expert english grammarian and writer. Given a Multiple Choice Quiz for {subject} students.\\\n",
    "You need to evaluate the complexity of the question and give a complete analysis of the quiz. Only use at max 50 words for complexity analysis. \n",
    "if the quiz is not at per with the cognitive and analytical abilities of the students,\\\n",
    "update the quiz questions which needs to be changed and change the tone such that it perfectly fits the student abilities\n",
    "Quiz_MCQs:\n",
    "{quiz}\n",
    "\n",
    "Check from an expert English Writer of the above quiz:\n",
    "\"\"\""
   ]
  },
  {
   "cell_type": "code",
   "execution_count": 45,
   "metadata": {},
   "outputs": [],
   "source": [
    "quiz_evaluation_prompt=PromptTemplate(input_variables=[\"subject\", \"quiz\"], template=TEMPLATE2)"
   ]
  },
  {
   "cell_type": "markdown",
   "metadata": {},
   "source": []
  },
  {
   "cell_type": "code",
   "execution_count": 46,
   "metadata": {},
   "outputs": [],
   "source": [
    "review_chain=LLMChain(llm=llm, prompt=quiz_evaluation_prompt, output_key=\"review\", verbose=True)"
   ]
  },
  {
   "cell_type": "code",
   "execution_count": 47,
   "metadata": {},
   "outputs": [],
   "source": [
    "\n",
    "generate_evaluate_chain=SequentialChain(chains=[quiz_chain, review_chain], input_variables=[\"text\", \"number\", \"subject\", \"tone\", \"response_json\"],\n",
    "                                        output_variables=[\"quiz\", \"review\"], verbose=True,)"
   ]
  },
  {
   "cell_type": "code",
   "execution_count": 48,
   "metadata": {},
   "outputs": [],
   "source": [
    "with open(\"C:/Users/vk/mcqgeneratorproject/biology.txt\",\"r\") as F:\n",
    "    file=F.read()"
   ]
  },
  {
   "cell_type": "code",
   "execution_count": 29,
   "metadata": {},
   "outputs": [
    {
     "name": "stdout",
     "output_type": "stream",
     "text": [
      "Biology is the scientific study of life.[1][2][3] It is a natural science with a broad scope but has several unifying themes that tie it together as a single, coherent field.[1][2][3] For instance, all organisms are made up of cells that process hereditary information encoded in genes, which can be transmitted to future generations. Another major theme is evolution, which explains the unity and diversity of life.[1][2][3] Energy processing is also important to life as it allows organisms to move, grow, and reproduce.[1][2][3] Finally, all organisms are able to regulate their own internal environments.[1][2][3][4][5]\n",
      "\n",
      "Biologists are able to study life at multiple levels of organization,[1] from the molecular biology of a cell to the anatomy and physiology of plants and animals, and evolution of populations.[1][6] Hence, there are multiple subdisciplines within biology, each defined by the nature of their research questions and the tools that they use.[7][8][9] Like other scientists, biologists use the scientific method to make observations, pose questions, generate hypotheses, perform experiments, and form conclusions about the world around them.[1]\n",
      "\n",
      "Life on Earth, which emerged more than 3.7 billion years ago,[10] is immensely diverse. Biologists have sought to study and classify the various forms of life, from prokaryotic organisms such as archaea and bacteria to eukaryotic organisms such as protists, fungi, plants, and animals. These various organisms contribute to the biodiversity of an ecosystem, where they play specialized roles in the cycling of nutrients and energy through their biophysical environment.\n",
      "The earliest of roots of science, which included medicine, can be traced to ancient Egypt and Mesopotamia in around 3000 to 1200 BCE.[11][12] Their contributions shaped ancient Greek natural philosophy.[11][12][13][14] Ancient Greek philosophers such as Aristotle (384–322 BCE) contributed extensively to the development of biological knowledge. He explored biological causation and the diversity of life. His successor, Theophrastus, began the scientific study of plants.[15] Scholars of the medieval Islamic world who wrote on biology included al-Jahiz (781–869), Al-Dīnawarī (828–896), who wrote on botany,[16] and Rhazes (865–925) who wrote on anatomy and physiology. Medicine was especially well studied by Islamic scholars working in Greek philosopher traditions, while natural history drew heavily on Aristotelian thought.\n",
      "\n",
      "Biology began to quickly develop with Anton van Leeuwenhoek's dramatic improvement of the microscope. It was then that scholars discovered spermatozoa, bacteria, infusoria and the diversity of microscopic life. Investigations by Jan Swammerdam led to new interest in entomology and helped to develop techniques of microscopic dissection and staining.[17] Advances in microscopy had a profound impact on biological thinking. In the early 19th century, biologists pointed to the central importance of the cell. In 1838, Schleiden and Schwann began promoting the now universal ideas that (1) the basic unit of organisms is the cell and (2) that individual cells have all the characteristics of life, although they opposed the idea that (3) all cells come from the division of other cells, continuing to support spontaneous generation. However, Robert Remak and Rudolf Virchow were able to reify the third tenet, and by the 1860s most biologists accepted all three tenets which consolidated into cell theory.[18][19]\n",
      "\n",
      "Meanwhile, taxonomy and classification became the focus of natural historians. Carl Linnaeus published a basic taxonomy for the natural world in 1735, and in the 1750s introduced scientific names for all his species.[20] Georges-Louis Leclerc, Comte de Buffon, treated species as artificial categories and living forms as malleable—even suggesting the possibility of common descent.[21]\n",
      "\n",
      "\n",
      "In 1842, Charles Darwin penned his first sketch of On the Origin of Species.[22]\n",
      "Serious evolutionary thinking originated with the works of Jean-Baptiste Lamarck, who presented a coherent theory of evolution.[23] The British naturalist Charles Darwin, combining the biogeographical approach of Humboldt, the uniformitarian geology of Lyell, Malthus's writings on population growth, and his own morphological expertise and extensive natural observations, forged a more successful evolutionary theory based on natural selection; similar reasoning and evidence led Alfred Russel Wallace to independently reach the same conclusions.[24][25]\n",
      "\n",
      "The basis for modern genetics began with the work of Gregor Mendel in 1865.[26] This outlined the principles of biological inheritance.[27] However, the significance of his work was not realized until the early 20th century when evolution became a unified theory as the modern synthesis reconciled Darwinian evolution with classical genetics.[28] In the 1940s and early 1950s, a series of experiments by Alfred Hershey and Martha Chase pointed to DNA as the component of chromosomes that held the trait-carrying units that had become known as genes. A focus on new kinds of model organisms such as viruses and bacteria, along with the discovery of the double-helical structure of DNA by James Watson and Francis Crick in 1953, marked the transition to the era of molecular genetics. From the 1950s onwards, biology has been vastly extended in the molecular domain. The genetic code was cracked by Har Gobind Khorana, Robert W. Holley and Marshall Warren Nirenberg after DNA was understood to contain codons. The Human Genome Project was launched in 1990 to map the human genome.[29]\n"
     ]
    }
   ],
   "source": [
    "print(file)"
   ]
  },
  {
   "cell_type": "code",
   "execution_count": 60,
   "metadata": {},
   "outputs": [],
   "source": [
    "NUMBER=10\n",
    "SUBJECT=\"biology\"\n",
    "TONE=\"complex\""
   ]
  },
  {
   "cell_type": "code",
   "execution_count": 61,
   "metadata": {},
   "outputs": [
    {
     "name": "stdout",
     "output_type": "stream",
     "text": [
      "\n",
      "\n",
      "\u001b[1m> Entering new SequentialChain chain...\u001b[0m\n",
      "\n",
      "\n",
      "\u001b[1m> Entering new LLMChain chain...\u001b[0m\n",
      "Prompt after formatting:\n",
      "\u001b[32;1m\u001b[1;3m\n",
      "Text:Biology is the scientific study of life.[1][2][3] It is a natural science with a broad scope but has several unifying themes that tie it together as a single, coherent field.[1][2][3] For instance, all organisms are made up of cells that process hereditary information encoded in genes, which can be transmitted to future generations. Another major theme is evolution, which explains the unity and diversity of life.[1][2][3] Energy processing is also important to life as it allows organisms to move, grow, and reproduce.[1][2][3] Finally, all organisms are able to regulate their own internal environments.[1][2][3][4][5]\n",
      "\n",
      "Biologists are able to study life at multiple levels of organization,[1] from the molecular biology of a cell to the anatomy and physiology of plants and animals, and evolution of populations.[1][6] Hence, there are multiple subdisciplines within biology, each defined by the nature of their research questions and the tools that they use.[7][8][9] Like other scientists, biologists use the scientific method to make observations, pose questions, generate hypotheses, perform experiments, and form conclusions about the world around them.[1]\n",
      "\n",
      "Life on Earth, which emerged more than 3.7 billion years ago,[10] is immensely diverse. Biologists have sought to study and classify the various forms of life, from prokaryotic organisms such as archaea and bacteria to eukaryotic organisms such as protists, fungi, plants, and animals. These various organisms contribute to the biodiversity of an ecosystem, where they play specialized roles in the cycling of nutrients and energy through their biophysical environment.\n",
      "The earliest of roots of science, which included medicine, can be traced to ancient Egypt and Mesopotamia in around 3000 to 1200 BCE.[11][12] Their contributions shaped ancient Greek natural philosophy.[11][12][13][14] Ancient Greek philosophers such as Aristotle (384–322 BCE) contributed extensively to the development of biological knowledge. He explored biological causation and the diversity of life. His successor, Theophrastus, began the scientific study of plants.[15] Scholars of the medieval Islamic world who wrote on biology included al-Jahiz (781–869), Al-Dīnawarī (828–896), who wrote on botany,[16] and Rhazes (865–925) who wrote on anatomy and physiology. Medicine was especially well studied by Islamic scholars working in Greek philosopher traditions, while natural history drew heavily on Aristotelian thought.\n",
      "\n",
      "Biology began to quickly develop with Anton van Leeuwenhoek's dramatic improvement of the microscope. It was then that scholars discovered spermatozoa, bacteria, infusoria and the diversity of microscopic life. Investigations by Jan Swammerdam led to new interest in entomology and helped to develop techniques of microscopic dissection and staining.[17] Advances in microscopy had a profound impact on biological thinking. In the early 19th century, biologists pointed to the central importance of the cell. In 1838, Schleiden and Schwann began promoting the now universal ideas that (1) the basic unit of organisms is the cell and (2) that individual cells have all the characteristics of life, although they opposed the idea that (3) all cells come from the division of other cells, continuing to support spontaneous generation. However, Robert Remak and Rudolf Virchow were able to reify the third tenet, and by the 1860s most biologists accepted all three tenets which consolidated into cell theory.[18][19]\n",
      "\n",
      "Meanwhile, taxonomy and classification became the focus of natural historians. Carl Linnaeus published a basic taxonomy for the natural world in 1735, and in the 1750s introduced scientific names for all his species.[20] Georges-Louis Leclerc, Comte de Buffon, treated species as artificial categories and living forms as malleable—even suggesting the possibility of common descent.[21]\n",
      "\n",
      "\n",
      "In 1842, Charles Darwin penned his first sketch of On the Origin of Species.[22]\n",
      "Serious evolutionary thinking originated with the works of Jean-Baptiste Lamarck, who presented a coherent theory of evolution.[23] The British naturalist Charles Darwin, combining the biogeographical approach of Humboldt, the uniformitarian geology of Lyell, Malthus's writings on population growth, and his own morphological expertise and extensive natural observations, forged a more successful evolutionary theory based on natural selection; similar reasoning and evidence led Alfred Russel Wallace to independently reach the same conclusions.[24][25]\n",
      "\n",
      "The basis for modern genetics began with the work of Gregor Mendel in 1865.[26] This outlined the principles of biological inheritance.[27] However, the significance of his work was not realized until the early 20th century when evolution became a unified theory as the modern synthesis reconciled Darwinian evolution with classical genetics.[28] In the 1940s and early 1950s, a series of experiments by Alfred Hershey and Martha Chase pointed to DNA as the component of chromosomes that held the trait-carrying units that had become known as genes. A focus on new kinds of model organisms such as viruses and bacteria, along with the discovery of the double-helical structure of DNA by James Watson and Francis Crick in 1953, marked the transition to the era of molecular genetics. From the 1950s onwards, biology has been vastly extended in the molecular domain. The genetic code was cracked by Har Gobind Khorana, Robert W. Holley and Marshall Warren Nirenberg after DNA was understood to contain codons. The Human Genome Project was launched in 1990 to map the human genome.[29]\n",
      "You are an expert MCQ maker. Given the above text, it is your job to create a quiz  of 10 multiple choice questions for biology students in complex tone. \n",
      "Make sure the questions are not repeated and check all the questions to be conforming the text as well.\n",
      "Make sure to format your response like  RESPONSE_JSON below  and use it as a guide. Ensure to make 10 MCQs\n",
      "### RESPONSE_JSON\n",
      "{\"1\": {\"mcq\": \"multiple choice question\", \"options\": {\"a\": \"choice here\", \"b\": \"choice here\", \"c\": \"choice here\", \"d\": \"choice here\"}, \"correct\": \"correct answer\"}, \"2\": {\"mcq\": \"multiple choice question\", \"options\": {\"a\": \"choice here\", \"b\": \"choice here\", \"c\": \"choice here\", \"d\": \"choice here\"}, \"correct\": \"correct answer\"}, \"3\": {\"mcq\": \"multiple choice question\", \"options\": {\"a\": \"choice here\", \"b\": \"choice here\", \"c\": \"choice here\", \"d\": \"choice here\"}, \"correct\": \"correct answer\"}}\n",
      "\n",
      "\u001b[0m\n",
      "\n",
      "\u001b[1m> Finished chain.\u001b[0m\n",
      "\n",
      "\n",
      "\u001b[1m> Entering new LLMChain chain...\u001b[0m\n",
      "Prompt after formatting:\n",
      "\u001b[32;1m\u001b[1;3m\n",
      "You are an expert english grammarian and writer. Given a Multiple Choice Quiz for biology students.You need to evaluate the complexity of the question and give a complete analysis of the quiz. Only use at max 50 words for complexity analysis. \n",
      "if the quiz is not at per with the cognitive and analytical abilities of the students,update the quiz questions which needs to be changed and change the tone such that it perfectly fits the student abilities\n",
      "Quiz_MCQs:\n",
      " Here are 10 multiple-choice questions related to biology for students:\n",
      "\n",
      "1. Which of the following is not a type of cell?\n",
      "a) Plant cell\n",
      "b) Animal cell\n",
      "c) Bacteria cell\n",
      "d) Fungi cell\n",
      "Correct answer: b) Animal cell\n",
      "\n",
      "2. The process by which organisms produce offspring is called ____________.\n",
      "a) Reproduction\n",
      "b) Development\n",
      "c) Metamorphosis\n",
      "d) Asexual reproduction\n",
      "Correct answer: c) Metamorphosis\n",
      "\n",
      "3. Which of the following is not a characteristic of cells?\n",
      "a) Cell membrane\n",
      "b) Cell wall\n",
      "c) Cellulose\n",
      "d) Lysosomes\n",
      "Correct answer: d) Lysosomes\n",
      "\n",
      "4. The process by which organisms exchange genetic material is called ____________.\n",
      "a) Reproduction\n",
      "b) Development\n",
      "c) Metamorphosis\n",
      "d) Asexual reproduction\n",
      "Correct answer: b) Animal reproduction\n",
      "\n",
      "5. Which of the following is not a type of virus?\n",
      "a) Plant virus\n",
      "b) Animal virus\n",
      "c) Bacteria virus\n",
      "d) Fungi virus\n",
      "Correct answer: c) Bacteria virus\n",
      "\n",
      "6. The process by which organisms produce offspring is called ____________.\n",
      "a) Reproduction\n",
      "b) Development\n",
      "c) Metamorphosis\n",
      "d) Asexual reproduction\n",
      "Correct answer: b) Animal development\n",
      "\n",
      "7. Which of the following is not a characteristic of cells?\n",
      "a) Cell membrane\n",
      "b) Cell wall\n",
      "c) Cellulose\n",
      "d) Lysosomes\n",
      "Correct answer: d) Lysosomes\n",
      "\n",
      "8. The process by which organisms exchange genetic material is called ____________.\n",
      "a) Reproduction\n",
      "b) Development\n",
      "c) Metamorphosis\n",
      "d) Asexual reproduction\n",
      "Correct answer: b) Animal reproduction\n",
      "\n",
      "9. Which of the following is not a type of protist?\n",
      "a) Algae\n",
      "b) Fungi\n",
      "c) Plantae\n",
      "d) Animalia\n",
      "Correct answer: c) Plantae\n",
      "\n",
      "10. The process by which organisms produce offspring is called ____________.\n",
      "a) Reproduction\n",
      "b) Development\n",
      "c) Metamorphosis\n",
      "d) Asexual reproduction\n",
      "Correct answer: b) Animal development\n",
      "\n",
      "Check from an expert English Writer of the above quiz:\n",
      "\u001b[0m\n",
      "\n",
      "\u001b[1m> Finished chain.\u001b[0m\n",
      "\n",
      "\u001b[1m> Finished chain.\u001b[0m\n"
     ]
    }
   ],
   "source": [
    "answer=generate_evaluate_chain.invoke({\"text\":file,\"number\":NUMBER,\"subject\":SUBJECT,\"tone\":TONE,\"response_json\":responsestring})"
   ]
  },
  {
   "cell_type": "code",
   "execution_count": 63,
   "metadata": {},
   "outputs": [
    {
     "data": {
      "text/plain": [
       "{'text': \"Biology is the scientific study of life.[1][2][3] It is a natural science with a broad scope but has several unifying themes that tie it together as a single, coherent field.[1][2][3] For instance, all organisms are made up of cells that process hereditary information encoded in genes, which can be transmitted to future generations. Another major theme is evolution, which explains the unity and diversity of life.[1][2][3] Energy processing is also important to life as it allows organisms to move, grow, and reproduce.[1][2][3] Finally, all organisms are able to regulate their own internal environments.[1][2][3][4][5]\\n\\nBiologists are able to study life at multiple levels of organization,[1] from the molecular biology of a cell to the anatomy and physiology of plants and animals, and evolution of populations.[1][6] Hence, there are multiple subdisciplines within biology, each defined by the nature of their research questions and the tools that they use.[7][8][9] Like other scientists, biologists use the scientific method to make observations, pose questions, generate hypotheses, perform experiments, and form conclusions about the world around them.[1]\\n\\nLife on Earth, which emerged more than 3.7 billion years ago,[10] is immensely diverse. Biologists have sought to study and classify the various forms of life, from prokaryotic organisms such as archaea and bacteria to eukaryotic organisms such as protists, fungi, plants, and animals. These various organisms contribute to the biodiversity of an ecosystem, where they play specialized roles in the cycling of nutrients and energy through their biophysical environment.\\nThe earliest of roots of science, which included medicine, can be traced to ancient Egypt and Mesopotamia in around 3000 to 1200 BCE.[11][12] Their contributions shaped ancient Greek natural philosophy.[11][12][13][14] Ancient Greek philosophers such as Aristotle (384–322 BCE) contributed extensively to the development of biological knowledge. He explored biological causation and the diversity of life. His successor, Theophrastus, began the scientific study of plants.[15] Scholars of the medieval Islamic world who wrote on biology included al-Jahiz (781–869), Al-Dīnawarī (828–896), who wrote on botany,[16] and Rhazes (865–925) who wrote on anatomy and physiology. Medicine was especially well studied by Islamic scholars working in Greek philosopher traditions, while natural history drew heavily on Aristotelian thought.\\n\\nBiology began to quickly develop with Anton van Leeuwenhoek's dramatic improvement of the microscope. It was then that scholars discovered spermatozoa, bacteria, infusoria and the diversity of microscopic life. Investigations by Jan Swammerdam led to new interest in entomology and helped to develop techniques of microscopic dissection and staining.[17] Advances in microscopy had a profound impact on biological thinking. In the early 19th century, biologists pointed to the central importance of the cell. In 1838, Schleiden and Schwann began promoting the now universal ideas that (1) the basic unit of organisms is the cell and (2) that individual cells have all the characteristics of life, although they opposed the idea that (3) all cells come from the division of other cells, continuing to support spontaneous generation. However, Robert Remak and Rudolf Virchow were able to reify the third tenet, and by the 1860s most biologists accepted all three tenets which consolidated into cell theory.[18][19]\\n\\nMeanwhile, taxonomy and classification became the focus of natural historians. Carl Linnaeus published a basic taxonomy for the natural world in 1735, and in the 1750s introduced scientific names for all his species.[20] Georges-Louis Leclerc, Comte de Buffon, treated species as artificial categories and living forms as malleable—even suggesting the possibility of common descent.[21]\\n\\n\\nIn 1842, Charles Darwin penned his first sketch of On the Origin of Species.[22]\\nSerious evolutionary thinking originated with the works of Jean-Baptiste Lamarck, who presented a coherent theory of evolution.[23] The British naturalist Charles Darwin, combining the biogeographical approach of Humboldt, the uniformitarian geology of Lyell, Malthus's writings on population growth, and his own morphological expertise and extensive natural observations, forged a more successful evolutionary theory based on natural selection; similar reasoning and evidence led Alfred Russel Wallace to independently reach the same conclusions.[24][25]\\n\\nThe basis for modern genetics began with the work of Gregor Mendel in 1865.[26] This outlined the principles of biological inheritance.[27] However, the significance of his work was not realized until the early 20th century when evolution became a unified theory as the modern synthesis reconciled Darwinian evolution with classical genetics.[28] In the 1940s and early 1950s, a series of experiments by Alfred Hershey and Martha Chase pointed to DNA as the component of chromosomes that held the trait-carrying units that had become known as genes. A focus on new kinds of model organisms such as viruses and bacteria, along with the discovery of the double-helical structure of DNA by James Watson and Francis Crick in 1953, marked the transition to the era of molecular genetics. From the 1950s onwards, biology has been vastly extended in the molecular domain. The genetic code was cracked by Har Gobind Khorana, Robert W. Holley and Marshall Warren Nirenberg after DNA was understood to contain codons. The Human Genome Project was launched in 1990 to map the human genome.[29]\",\n",
       " 'number': 10,\n",
       " 'subject': 'biology',\n",
       " 'tone': 'complex',\n",
       " 'response_json': '{\"1\": {\"mcq\": \"multiple choice question\", \"options\": {\"a\": \"choice here\", \"b\": \"choice here\", \"c\": \"choice here\", \"d\": \"choice here\"}, \"correct\": \"correct answer\"}, \"2\": {\"mcq\": \"multiple choice question\", \"options\": {\"a\": \"choice here\", \"b\": \"choice here\", \"c\": \"choice here\", \"d\": \"choice here\"}, \"correct\": \"correct answer\"}, \"3\": {\"mcq\": \"multiple choice question\", \"options\": {\"a\": \"choice here\", \"b\": \"choice here\", \"c\": \"choice here\", \"d\": \"choice here\"}, \"correct\": \"correct answer\"}}',\n",
       " 'quiz': ' Here are 10 multiple-choice questions related to biology for students:\\n\\n1. Which of the following is not a type of cell?\\na) Plant cell\\nb) Animal cell\\nc) Bacteria cell\\nd) Fungi cell\\nCorrect answer: b) Animal cell\\n\\n2. The process by which organisms produce offspring is called ____________.\\na) Reproduction\\nb) Development\\nc) Metamorphosis\\nd) Asexual reproduction\\nCorrect answer: c) Metamorphosis\\n\\n3. Which of the following is not a characteristic of cells?\\na) Cell membrane\\nb) Cell wall\\nc) Cellulose\\nd) Lysosomes\\nCorrect answer: d) Lysosomes\\n\\n4. The process by which organisms exchange genetic material is called ____________.\\na) Reproduction\\nb) Development\\nc) Metamorphosis\\nd) Asexual reproduction\\nCorrect answer: b) Animal reproduction\\n\\n5. Which of the following is not a type of virus?\\na) Plant virus\\nb) Animal virus\\nc) Bacteria virus\\nd) Fungi virus\\nCorrect answer: c) Bacteria virus\\n\\n6. The process by which organisms produce offspring is called ____________.\\na) Reproduction\\nb) Development\\nc) Metamorphosis\\nd) Asexual reproduction\\nCorrect answer: b) Animal development\\n\\n7. Which of the following is not a characteristic of cells?\\na) Cell membrane\\nb) Cell wall\\nc) Cellulose\\nd) Lysosomes\\nCorrect answer: d) Lysosomes\\n\\n8. The process by which organisms exchange genetic material is called ____________.\\na) Reproduction\\nb) Development\\nc) Metamorphosis\\nd) Asexual reproduction\\nCorrect answer: b) Animal reproduction\\n\\n9. Which of the following is not a type of protist?\\na) Algae\\nb) Fungi\\nc) Plantae\\nd) Animalia\\nCorrect answer: c) Plantae\\n\\n10. The process by which organisms produce offspring is called ____________.\\na) Reproduction\\nb) Development\\nc) Metamorphosis\\nd) Asexual reproduction\\nCorrect answer: b) Animal development',\n",
       " 'review': ' This quiz appears to be appropriate for students with basic knowledge and understanding of biology. The questions are straightforward and easy to understand, and the options are limited to common misconceptions about cells and reproduction. However, it is always important to update quiz questions to keep them challenging and relevant to student learning.'}"
      ]
     },
     "execution_count": 63,
     "metadata": {},
     "output_type": "execute_result"
    }
   ],
   "source": [
    "answer"
   ]
  },
  {
   "cell_type": "code",
   "execution_count": 109,
   "metadata": {},
   "outputs": [
    {
     "name": "stdout",
     "output_type": "stream",
     "text": [
      "<class 'str'>\n"
     ]
    }
   ],
   "source": [
    "print(type(answer['quiz']))"
   ]
  },
  {
   "cell_type": "code",
   "execution_count": 110,
   "metadata": {},
   "outputs": [
    {
     "data": {
      "text/plain": [
       "' Here are 10 multiple-choice questions related to biology for students:\\n\\n1. Which of the following is not a type of cell?\\na) Plant cell\\nb) Animal cell\\nc) Bacteria cell\\nd) Fungi cell\\nCorrect answer: b) Animal cell\\n\\n2. The process by which organisms produce offspring is called ____________.\\na) Reproduction\\nb) Development\\nc) Metamorphosis\\nd) Asexual reproduction\\nCorrect answer: c) Metamorphosis\\n\\n3. Which of the following is not a characteristic of cells?\\na) Cell membrane\\nb) Cell wall\\nc) Cellulose\\nd) Lysosomes\\nCorrect answer: d) Lysosomes\\n\\n4. The process by which organisms exchange genetic material is called ____________.\\na) Reproduction\\nb) Development\\nc) Metamorphosis\\nd) Asexual reproduction\\nCorrect answer: b) Animal reproduction\\n\\n5. Which of the following is not a type of virus?\\na) Plant virus\\nb) Animal virus\\nc) Bacteria virus\\nd) Fungi virus\\nCorrect answer: c) Bacteria virus\\n\\n6. The process by which organisms produce offspring is called ____________.\\na) Reproduction\\nb) Development\\nc) Metamorphosis\\nd) Asexual reproduction\\nCorrect answer: b) Animal development\\n\\n7. Which of the following is not a characteristic of cells?\\na) Cell membrane\\nb) Cell wall\\nc) Cellulose\\nd) Lysosomes\\nCorrect answer: d) Lysosomes\\n\\n8. The process by which organisms exchange genetic material is called ____________.\\na) Reproduction\\nb) Development\\nc) Metamorphosis\\nd) Asexual reproduction\\nCorrect answer: b) Animal reproduction\\n\\n9. Which of the following is not a type of protist?\\na) Algae\\nb) Fungi\\nc) Plantae\\nd) Animalia\\nCorrect answer: c) Plantae\\n\\n10. The process by which organisms produce offspring is called ____________.\\na) Reproduction\\nb) Development\\nc) Metamorphosis\\nd) Asexual reproduction\\nCorrect answer: b) Animal development'"
      ]
     },
     "execution_count": 110,
     "metadata": {},
     "output_type": "execute_result"
    }
   ],
   "source": [
    "answer['quiz']"
   ]
  },
  {
   "cell_type": "code",
   "execution_count": null,
   "metadata": {},
   "outputs": [],
   "source": []
  },
  {
   "cell_type": "code",
   "execution_count": 90,
   "metadata": {},
   "outputs": [],
   "source": [
    "import reportlab"
   ]
  },
  {
   "cell_type": "code",
   "execution_count": 91,
   "metadata": {},
   "outputs": [],
   "source": [
    "from reportlab.lib.pagesizes import letter\n",
    "from reportlab.pdfgen import canvas"
   ]
  },
  {
   "cell_type": "code",
   "execution_count": 120,
   "metadata": {},
   "outputs": [],
   "source": [
    "c=canvas.Canvas(\"quizanswers1.pdf\",pagesize=letter)"
   ]
  },
  {
   "cell_type": "code",
   "execution_count": 121,
   "metadata": {},
   "outputs": [],
   "source": [
    "c.drawString(200,750,answers)"
   ]
  },
  {
   "cell_type": "code",
   "execution_count": 122,
   "metadata": {},
   "outputs": [],
   "source": [
    "c.save()"
   ]
  },
  {
   "cell_type": "code",
   "execution_count": 111,
   "metadata": {},
   "outputs": [],
   "source": [
    "answers=answer['quiz']"
   ]
  },
  {
   "cell_type": "code",
   "execution_count": 123,
   "metadata": {},
   "outputs": [
    {
     "name": "stdout",
     "output_type": "stream",
     "text": [
      " Here are 10 multiple-choice questions related to biology for students:\n",
      "\n",
      "1. Which of the following is not a type of cell?\n",
      "a) Plant cell\n",
      "b) Animal cell\n",
      "c) Bacteria cell\n",
      "d) Fungi cell\n",
      "Correct answer: b) Animal cell\n",
      "\n",
      "2. The process by which organisms produce offspring is called ____________.\n",
      "a) Reproduction\n",
      "b) Development\n",
      "c) Metamorphosis\n",
      "d) Asexual reproduction\n",
      "Correct answer: c) Metamorphosis\n",
      "\n",
      "3. Which of the following is not a characteristic of cells?\n",
      "a) Cell membrane\n",
      "b) Cell wall\n",
      "c) Cellulose\n",
      "d) Lysosomes\n",
      "Correct answer: d) Lysosomes\n",
      "\n",
      "4. The process by which organisms exchange genetic material is called ____________.\n",
      "a) Reproduction\n",
      "b) Development\n",
      "c) Metamorphosis\n",
      "d) Asexual reproduction\n",
      "Correct answer: b) Animal reproduction\n",
      "\n",
      "5. Which of the following is not a type of virus?\n",
      "a) Plant virus\n",
      "b) Animal virus\n",
      "c) Bacteria virus\n",
      "d) Fungi virus\n",
      "Correct answer: c) Bacteria virus\n",
      "\n",
      "6. The process by which organisms produce offspring is called ____________.\n",
      "a) Reproduction\n",
      "b) Development\n",
      "c) Metamorphosis\n",
      "d) Asexual reproduction\n",
      "Correct answer: b) Animal development\n",
      "\n",
      "7. Which of the following is not a characteristic of cells?\n",
      "a) Cell membrane\n",
      "b) Cell wall\n",
      "c) Cellulose\n",
      "d) Lysosomes\n",
      "Correct answer: d) Lysosomes\n",
      "\n",
      "8. The process by which organisms exchange genetic material is called ____________.\n",
      "a) Reproduction\n",
      "b) Development\n",
      "c) Metamorphosis\n",
      "d) Asexual reproduction\n",
      "Correct answer: b) Animal reproduction\n",
      "\n",
      "9. Which of the following is not a type of protist?\n",
      "a) Algae\n",
      "b) Fungi\n",
      "c) Plantae\n",
      "d) Animalia\n",
      "Correct answer: c) Plantae\n",
      "\n",
      "10. The process by which organisms produce offspring is called ____________.\n",
      "a) Reproduction\n",
      "b) Development\n",
      "c) Metamorphosis\n",
      "d) Asexual reproduction\n",
      "Correct answer: b) Animal development\n"
     ]
    }
   ],
   "source": [
    "print(answers)"
   ]
  },
  {
   "cell_type": "code",
   "execution_count": null,
   "metadata": {},
   "outputs": [],
   "source": []
  }
 ],
 "metadata": {
  "kernelspec": {
   "display_name": "Python 3",
   "language": "python",
   "name": "python3"
  },
  "language_info": {
   "codemirror_mode": {
    "name": "ipython",
    "version": 3
   },
   "file_extension": ".py",
   "mimetype": "text/x-python",
   "name": "python",
   "nbconvert_exporter": "python",
   "pygments_lexer": "ipython3",
   "version": "3.10.14"
  }
 },
 "nbformat": 4,
 "nbformat_minor": 2
}
